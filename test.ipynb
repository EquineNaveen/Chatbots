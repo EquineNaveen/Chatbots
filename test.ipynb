{
 "cells": [
  {
   "cell_type": "code",
   "execution_count": 7,
   "id": "4013bc3f",
   "metadata": {},
   "outputs": [],
   "source": [
    "import os\n",
    "from dotenv import load_dotenv\n",
    "from langchain_groq import ChatGroq\n",
    "from langchain_core.messages import HumanMessage\n",
    "load_dotenv()\n",
    "groq_api_key=os.getenv(\"GROQ_API_KEY\")\n",
    "\n"
   ]
  },
  {
   "cell_type": "code",
   "execution_count": 8,
   "id": "dfd63c9a",
   "metadata": {},
   "outputs": [
    {
     "name": "stdout",
     "output_type": "stream",
     "text": [
      "content=\"Hello. I'm just a language model, so I don't have feelings or emotions like humans do, but I'm functioning properly and ready to assist you with any questions or tasks you may have. How can I help you today?\" additional_kwargs={} response_metadata={'token_usage': {'completion_tokens': 48, 'prompt_tokens': 41, 'total_tokens': 89, 'completion_time': 0.205995378, 'prompt_time': 0.002162741, 'queue_time': 0.058274876999999996, 'total_time': 0.208158119}, 'model_name': 'llama-3.3-70b-versatile', 'system_fingerprint': 'fp_3f3b593e33', 'finish_reason': 'stop', 'logprobs': None} id='run--e1337914-6f16-4e14-ad1b-27bafc65a0f9-0' usage_metadata={'input_tokens': 41, 'output_tokens': 48, 'total_tokens': 89}\n"
     ]
    }
   ],
   "source": [
    "model=ChatGroq(\n",
    "    model_name=\"llama-3.3-70b-versatile\",\n",
    "    api_key=groq_api_key\n",
    ")\n",
    "response=model.invoke(\"Hello, how are you?\")\n",
    "print(response)"
   ]
  },
  {
   "cell_type": "code",
   "execution_count": 9,
   "id": "e5a82775",
   "metadata": {},
   "outputs": [
    {
     "data": {
      "text/plain": [
       "AIMessage(content='The capital of France is Paris.', additional_kwargs={}, response_metadata={'token_usage': {'completion_tokens': 8, 'prompt_tokens': 42, 'total_tokens': 50, 'completion_time': 0.029090909, 'prompt_time': 0.008738453, 'queue_time': 0.052715725, 'total_time': 0.037829362}, 'model_name': 'llama-3.3-70b-versatile', 'system_fingerprint': 'fp_6507bcfb6f', 'finish_reason': 'stop', 'logprobs': None}, id='run--31d88152-452e-4d6a-8f73-a9285d562499-0', usage_metadata={'input_tokens': 42, 'output_tokens': 8, 'total_tokens': 50})"
      ]
     },
     "execution_count": 9,
     "metadata": {},
     "output_type": "execute_result"
    }
   ],
   "source": [
    "model.invoke([\n",
    "    HumanMessage(content=\"What is the capital of France?\")])"
   ]
  },
  {
   "cell_type": "code",
   "execution_count": 10,
   "id": "4f39595a",
   "metadata": {},
   "outputs": [
    {
     "name": "stdout",
     "output_type": "stream",
     "text": [
      "content='The capital of France is Paris.' additional_kwargs={} response_metadata={'token_usage': {'completion_tokens': 8, 'prompt_tokens': 42, 'total_tokens': 50, 'completion_time': 0.029090909, 'prompt_time': 0.001823128, 'queue_time': 0.056122202, 'total_time': 0.030914037}, 'model_name': 'llama-3.3-70b-versatile', 'system_fingerprint': 'fp_6507bcfb6f', 'finish_reason': 'stop', 'logprobs': None} id='run--60c35be0-8667-4bd3-b79d-1e74ed9fdfb0-0' usage_metadata={'input_tokens': 42, 'output_tokens': 8, 'total_tokens': 50}\n"
     ]
    }
   ],
   "source": [
    "from langchain_core.messages import AIMessage\n",
    "response = model.invoke([\n",
    "    HumanMessage(content=\"What is the capital of France?\")\n",
    "])\n",
    "print(response)"
   ]
  },
  {
   "cell_type": "code",
   "execution_count": 18,
   "id": "99347c38",
   "metadata": {},
   "outputs": [],
   "source": [
    "from langchain_community.chat_message_histories import ChatMessageHistory\n",
    "from langchain_core.chat_history import BaseChatMessageHistory\n",
    "from langchain_core.runnables.history import RunnableWithMessageHistory\n",
    "\n",
    "store={}\n",
    "def get_session_history(session_id: str) -> BaseChatMessageHistory:\n",
    "    if session_id not in store:\n",
    "        store[session_id] = ChatMessageHistory()\n",
    "    return store[session_id]\n",
    "\n",
    "with_history = RunnableWithMessageHistory(model, get_session_history)"
   ]
  },
  {
   "cell_type": "code",
   "execution_count": 19,
   "id": "6c351514",
   "metadata": {},
   "outputs": [
    {
     "data": {
      "text/plain": [
       "AIMessage(content='The capital of France is Paris.', additional_kwargs={}, response_metadata={'token_usage': {'completion_tokens': 8, 'prompt_tokens': 42, 'total_tokens': 50, 'completion_time': 0.029090909, 'prompt_time': 0.002066022, 'queue_time': 0.051596238, 'total_time': 0.031156931}, 'model_name': 'llama-3.3-70b-versatile', 'system_fingerprint': 'fp_6507bcfb6f', 'finish_reason': 'stop', 'logprobs': None}, id='run--7a2973e9-453b-444a-a8cf-20df30c4ace7-0', usage_metadata={'input_tokens': 42, 'output_tokens': 8, 'total_tokens': 50})"
      ]
     },
     "execution_count": 19,
     "metadata": {},
     "output_type": "execute_result"
    }
   ],
   "source": [
    "config={\"configurable\": {\"session_id\":\"session1\"}}\n",
    "with_history.invoke([\n",
    "    HumanMessage(content=\"What is the capital of France?\")],config=config\n",
    ")"
   ]
  },
  {
   "cell_type": "code",
   "execution_count": 29,
   "id": "f243671f",
   "metadata": {},
   "outputs": [
    {
     "name": "stdout",
     "output_type": "stream",
     "text": [
      "content='Artificial intelligence (AI) refers to the development of computer systems that can perform tasks that typically require human intelligence, such as learning, problem-solving, and decision-making. AI systems use algorithms and data to enable machines to think and act like humans, and they have numerous applications in areas like healthcare, finance, and transportation. From virtual assistants like Siri and Alexa to self-driving cars and personalized product recommendations, AI is increasingly being integrated into our daily lives, transforming the way we live, work, and interact with technology.' additional_kwargs={} response_metadata={'token_usage': {'completion_tokens': 105, 'prompt_tokens': 51, 'total_tokens': 156, 'completion_time': 0.381818182, 'prompt_time': 0.002328125, 'queue_time': 0.052426985, 'total_time': 0.384146307}, 'model_name': 'llama-3.3-70b-versatile', 'system_fingerprint': 'fp_3f3b593e33', 'finish_reason': 'stop', 'logprobs': None} id='run--523ab527-20b6-49f7-bfd8-6ad4d2eb8bec-0' usage_metadata={'input_tokens': 51, 'output_tokens': 105, 'total_tokens': 156}\n"
     ]
    }
   ],
   "source": [
    "from langchain_core.prompts import ChatPromptTemplate,MessagesPlaceholder\n",
    "prompt=ChatPromptTemplate.from_messages([\n",
    "        (\"system\", \"You are a helpful assistant.\"),\n",
    "        MessagesPlaceholder(variable_name=\"input\", role=\"human\")\n",
    "    ]\n",
    ")\n",
    "\n",
    "\n",
    "chain = prompt | model\n",
    "\n",
    "\n",
    "response = chain.invoke({\"input\":[HumanMessage(content=\"Tell me about artificial intelligence in 3 sentences.\")]})\n",
    "\n",
    "print(response)"
   ]
  },
  {
   "cell_type": "code",
   "execution_count": null,
   "id": "ce0a9f29",
   "metadata": {},
   "outputs": [],
   "source": [
    "from langchain_core.messages import AIMessage,SystemMessage,trim_messages\n",
    "trimmer=trim_messages(\n",
    "    max_tokens=30,\n",
    "    strategy=\"last\",\n",
    "    token_counter=model.get_num_tokens,include_system=True,allow_partial=False,start_on=\"human\"\n",
    ")\n"
   ]
  },
  {
   "cell_type": "code",
   "execution_count": null,
   "id": "e2219150",
   "metadata": {},
   "outputs": [],
   "source": [
    "from operator  import itemgetter\n",
    "from langchain_core.runnables import RunnablePassthrough\n",
    "chain = (RunnablePassthrough.assign(messaages=itemgetter(\"messages\")) | trimmer | model)\n",
    "chain.invoke(\"messages\")"
   ]
  },
  {
   "cell_type": "markdown",
   "id": "5c312f0d",
   "metadata": {},
   "source": [
    "Vector Store and Retriever"
   ]
  },
  {
   "cell_type": "code",
   "execution_count": 61,
   "id": "8befef05",
   "metadata": {},
   "outputs": [],
   "source": [
    "from langchain_core.documents import Document\n",
    "documents = [\n",
    "    Document(page_content=\"Paris is the capital of France.\", metadata={\"source\": \"wiki\"}),\n",
    "    Document(page_content=\"Berlin is the capital of Germany.\", metadata={\"source\": \"wiki\"}),\n",
    "    Document(page_content=\"Tokyo is the capital of Japan.\", metadata={\"source\": \"wiki\"})\n",
    "]"
   ]
  },
  {
   "cell_type": "code",
   "execution_count": 63,
   "id": "3bb946ae",
   "metadata": {},
   "outputs": [],
   "source": [
    "from langchain_chroma import Chroma\n",
    "from langchain_core.documents import Document\n",
    "from langchain_huggingface import HuggingFaceEmbeddings\n",
    "load_dotenv()\n",
    "os.environ[\"HF_TOKEN\"]=os.getenv(\"HF_TOKEN\")\n",
    "\n",
    "embeddings=HuggingFaceEmbeddings(model_name=\"all-MiniLM-L6-v2\")\n",
    "\n",
    "vectorstore=Chroma.from_documents(documents,embedding=embeddings)"
   ]
  },
  {
   "cell_type": "code",
   "execution_count": 66,
   "id": "9cb94b8f",
   "metadata": {},
   "outputs": [
    {
     "data": {
      "text/plain": [
       "[Document(id='1be538d0-c72c-4993-8467-a333e5ce070a', metadata={'source': 'wiki'}, page_content='Paris is the capital of France.')]"
      ]
     },
     "execution_count": 66,
     "metadata": {},
     "output_type": "execute_result"
    }
   ],
   "source": [
    "vectorstore.similarity_search(\"paris is capital of?\",k=1)"
   ]
  },
  {
   "cell_type": "code",
   "execution_count": 70,
   "id": "b0457724",
   "metadata": {},
   "outputs": [
    {
     "data": {
      "text/plain": [
       "[[Document(id='1be538d0-c72c-4993-8467-a333e5ce070a', metadata={'source': 'wiki'}, page_content='Paris is the capital of France.')],\n",
       " [Document(id='75e46d8f-9f91-4998-977a-3cd23fce5d3b', metadata={'source': 'wiki'}, page_content='Berlin is the capital of Germany.')],\n",
       " [Document(id='6087db16-f28f-4b5d-aebf-346f7e6d1341', metadata={'source': 'wiki'}, page_content='Tokyo is the capital of Japan.')]]"
      ]
     },
     "execution_count": 70,
     "metadata": {},
     "output_type": "execute_result"
    }
   ],
   "source": [
    "from typing import List\n",
    "from langchain_core.runnables import RunnableLambda\n",
    "retriever=RunnableLambda(vectorstore.similarity_search).bind(k=1)\n",
    "retriever.batch([\"paris\", \"berlin\", \"tokyo\"])"
   ]
  }
 ],
 "metadata": {
  "kernelspec": {
   "display_name": "venv",
   "language": "python",
   "name": "python3"
  },
  "language_info": {
   "codemirror_mode": {
    "name": "ipython",
    "version": 3
   },
   "file_extension": ".py",
   "mimetype": "text/x-python",
   "name": "python",
   "nbconvert_exporter": "python",
   "pygments_lexer": "ipython3",
   "version": "3.11.11"
  }
 },
 "nbformat": 4,
 "nbformat_minor": 5
}
